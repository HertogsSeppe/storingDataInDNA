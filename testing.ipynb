{
 "cells": [
  {
   "cell_type": "markdown",
   "metadata": {},
   "source": [
    "## Load the required classes\n",
    "These classes contain the code to encode and decode the files and induce errors in the DNA strands. An instance is created of each class and stored into a variable, so that they can be used."
   ]
  },
  {
   "cell_type": "code",
   "execution_count": null,
   "metadata": {},
   "outputs": [],
   "source": [
    "from encoder import Encoder\n",
    "from decoder import Decoder\n",
    "from errorSimulator import ErrorSimulator\n",
    "\n",
    "encoder         = Encoder()\n",
    "decoder         = Decoder()\n",
    "errorSimulator  = ErrorSimulator()"
   ]
  },
  {
   "cell_type": "markdown",
   "metadata": {},
   "source": [
    "## Encoder\n",
    "\n",
    "The encoder is used to convert the binary data into DNA-strands..."
   ]
  },
  {
   "cell_type": "code",
   "execution_count": null,
   "metadata": {},
   "outputs": [],
   "source": [
    "inFile = \"./test_data/input\"\n",
    "outFile = \"./test_data/output\"\n",
    "\n",
    "encoder.encode(inFile, outFile)"
   ]
  },
  {
   "cell_type": "markdown",
   "metadata": {},
   "source": [
    "## Decoder\n",
    "\n",
    "The decoder is used to convert the DNA-strands back into binary files..."
   ]
  },
  {
   "cell_type": "code",
   "execution_count": null,
   "metadata": {},
   "outputs": [],
   "source": [
    "inFile = \"./test_data/output\"\n",
    "outFile = \"./test_data/test\"\n",
    "\n",
    "encoder.encode(inFile, outFile)"
   ]
  },
  {
   "cell_type": "markdown",
   "metadata": {},
   "source": [
    "## Error simulator\n",
    "\n",
    "The error simulator is used to simulate errors in DNA-strands comming from PCR/synthesis..."
   ]
  },
  {
   "cell_type": "code",
   "execution_count": null,
   "metadata": {},
   "outputs": [],
   "source": [
    "inFile = \"./test_data/output\"\n",
    "outFile = \"./test_data/test2\"\n",
    "\n",
    "encoder.encode(inFile, outFile)"
   ]
  }
 ],
 "metadata": {
  "kernelspec": {
   "display_name": "venv",
   "language": "python",
   "name": "python3"
  },
  "language_info": {
   "name": "python",
   "version": "3.11.4"
  }
 },
 "nbformat": 4,
 "nbformat_minor": 2
}
