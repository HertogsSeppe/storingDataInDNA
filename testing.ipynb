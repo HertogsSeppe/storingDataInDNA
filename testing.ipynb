{
 "cells": [
  {
   "cell_type": "markdown",
   "metadata": {},
   "source": [
    "## Load the required classes\n",
    "These classes contain the code to encode and decode the files and induce errors in the DNA strands. An instance is created of each class and stored into a variable, so that they can be used."
   ]
  },
  {
   "cell_type": "code",
   "execution_count": 5,
   "metadata": {},
   "outputs": [
    {
     "name": "stdout",
     "output_type": "stream",
     "text": [
      "Encoder\n",
      "Decoder\n",
      "ErrorSimulator\n"
     ]
    }
   ],
   "source": [
    "from encoder import Encoder\n",
    "from decoder import Decoder\n",
    "from errorSimulator import ErrorSimulator\n",
    "\n",
    "encoder         = Encoder()\n",
    "decoder         = Decoder()\n",
    "errorSimulator  = ErrorSimulator()"
   ]
  },
  {
   "cell_type": "markdown",
   "metadata": {},
   "source": [
    "## Encoder\n",
    "\n",
    "The encoder is used to convert the binary data into DNA-strands..."
   ]
  },
  {
   "cell_type": "code",
   "execution_count": 6,
   "metadata": {},
   "outputs": [
    {
     "name": "stdout",
     "output_type": "stream",
     "text": [
      "4536 829 1.8238841978287093\n",
      "4536 16402 0.2765516400438971\n"
     ]
    }
   ],
   "source": [
    "inFile = \"./test_data/input.txt\"\n",
    "outFile = \"./test_data/output.txt\"\n",
    "\n",
    "encoder.encode(inFile, outFile)"
   ]
  },
  {
   "cell_type": "markdown",
   "metadata": {},
   "source": [
    "## Decoder\n",
    "\n",
    "The decoder is used to convert the DNA-strands back into binary files..."
   ]
  },
  {
   "cell_type": "code",
   "execution_count": 7,
   "metadata": {},
   "outputs": [
    {
     "name": "stdout",
     "output_type": "stream",
     "text": [
      "132160 24033 1.8330351322487135\n",
      "132160 156514 0.8443973063112565\n"
     ]
    }
   ],
   "source": [
    "inFile = \"./test_data/output.txt\"\n",
    "outFile = \"./test_data/test.txt\"\n",
    "\n",
    "encoder.encode(inFile, outFile)"
   ]
  },
  {
   "cell_type": "markdown",
   "metadata": {},
   "source": [
    "## Error simulator\n",
    "\n",
    "The error simulator is used to simulate errors in DNA-strands comming from PCR/synthesis..."
   ]
  },
  {
   "cell_type": "code",
   "execution_count": 8,
   "metadata": {},
   "outputs": [
    {
     "name": "stdout",
     "output_type": "stream",
     "text": [
      "Inducing errors...\n"
     ]
    }
   ],
   "source": [
    "inFile = \"./test_data/output.txt\"\n",
    "outFile = \"./test_data/test2.txt\"\n",
    "\n",
    "errorSimulator.induceErrors(inFile, outFile)"
   ]
  },
  {
   "cell_type": "markdown",
   "metadata": {},
   "source": [
    "## Testing decoder\n",
    "\n",
    "Testing the decoder for the same settings"
   ]
  },
  {
   "cell_type": "code",
   "execution_count": 14,
   "metadata": {},
   "outputs": [
    {
     "name": "stdout",
     "output_type": "stream",
     "text": [
      "Inducing errors...\n",
      "Decoding...\n",
      "Col errors:\n",
      "[1, 0, 1, 0, 2, 10, 0, 10, 1, 0, 0, 1, 1, 1, 1, 1, 0, 1, 1, 10, 0, 0, 1, 0, 0, 2, 10, 2, 0, 8, 1, 10, 1, 1, 1, 0, 1, 0, 0, 0, 7, 2, 10, 0, 1, 10, 0, 10, 0, 10, 0, 1, 0, 0, 1, 1, 1, 2, 1, 0, 0, 0, 0, 2, 10, 0, 0, 1, 5, 0, 10, 0, 0, 10, 1, 10, 0, 0, 0, 1, 10, 0, 0, 0, 0, 1, 0, 2, 0, 0, 0, 0, 10, 10, 0, 0, 0, 0, 0, 10, 0, 1, 10, 0, 0, 1, 1, 10, 0, 10, 0, 1]\n",
      "Missing\n",
      "Missing\n",
      "Missing\n",
      "Missing\n",
      "Missing\n",
      "Missing\n",
      "Row errors:\n",
      "[7 6 7 7 7 7 7 7 7 7 7 7 6 7 6 7 7 7 7 7 7 7 7]\n",
      "Done!\n",
      "[7 6 7 7 7 7 7 7 7 7 7 7 6 7 6 7 7 7 7 7 7 7 7]\n"
     ]
    }
   ],
   "source": [
    "error_infile = \"./test_data/output.txt\"\n",
    "error_outfile = \"./test_data/test.txt\"\n",
    "decoder_infile = \"./test_data/test.txt\"\n",
    "decoder_outfile = \"./test_data/test2.txt\"\n",
    "\n",
    "\n",
    "errorSimulator.induceErrors(error_infile, error_outfile)\n",
    "col_errors, row_errors, succes = decoder.decode(decoder_infile, decoder_outfile)\n",
    "print(\"Succes: \", succes)"
   ]
  },
  {
   "cell_type": "markdown",
   "metadata": {},
   "source": []
  }
 ],
 "metadata": {
  "kernelspec": {
   "display_name": "venv",
   "language": "python",
   "name": "python3"
  },
  "language_info": {
   "codemirror_mode": {
    "name": "ipython",
    "version": 3
   },
   "file_extension": ".py",
   "mimetype": "text/x-python",
   "name": "python",
   "nbconvert_exporter": "python",
   "pygments_lexer": "ipython3",
   "version": "3.11.4"
  }
 },
 "nbformat": 4,
 "nbformat_minor": 2
}
