{
 "cells": [
  {
   "cell_type": "markdown",
   "metadata": {},
   "source": [
    "## Load the required classes\n",
    "These classes contain the code to encode and decode the files and induce errors in the DNA strands. An instance is created of each class and stored into a variable, so that they can be used."
   ]
  },
  {
   "cell_type": "code",
   "execution_count": null,
   "metadata": {},
   "outputs": [],
   "source": [
    "from encoder import Encoder\n",
    "from decoder import Decoder\n",
    "from errorSimulator import ErrorSimulator\n",
    "\n",
    "encoder         = Encoder()\n",
    "decoder         = Decoder()\n",
    "errorSimulator  = ErrorSimulator()"
   ]
  },
  {
   "cell_type": "markdown",
   "metadata": {},
   "source": [
    "## Encoder\n",
    "\n",
    "The encoder is used to convert the binary data into DNA-strands..."
   ]
  },
  {
   "cell_type": "code",
   "execution_count": null,
   "metadata": {},
   "outputs": [],
   "source": [
    "inFile = \"./test_data/input.txt\"\n",
    "outFile = \"./test_data/output.txt\"\n",
    "\n",
    "encoder.encode(inFile, outFile)"
   ]
  },
  {
   "cell_type": "markdown",
   "metadata": {},
   "source": [
    "## Decoder\n",
    "\n",
    "The decoder is used to convert the DNA-strands back into binary files..."
   ]
  },
  {
   "cell_type": "code",
   "execution_count": null,
   "metadata": {},
   "outputs": [],
   "source": [
    "inFile = \"./test_data/output.txt\"\n",
    "outFile = \"./test_data/test.txt\"\n",
    "\n",
    "encoder.encode(inFile, outFile)"
   ]
  },
  {
   "cell_type": "markdown",
   "metadata": {},
   "source": [
    "## Error simulator\n",
    "\n",
    "The error simulator is used to simulate errors in DNA-strands comming from PCR/synthesis..."
   ]
  },
  {
   "cell_type": "code",
   "execution_count": null,
   "metadata": {},
   "outputs": [],
   "source": [
    "inFile = \"./test_data/output.txt\"\n",
    "outFile = \"./test_data/test2.txt\"\n",
    "\n",
    "errorSimulator.induceErrors(inFile, outFile)"
   ]
  },
  {
   "cell_type": "markdown",
   "metadata": {},
   "source": [
    "## Testing decoder\n",
    "\n",
    "Testing the decoder for the same settings"
   ]
  },
  {
   "cell_type": "code",
   "execution_count": null,
   "metadata": {},
   "outputs": [],
   "source": [
    "error_infile = \"./test_data/output.txt\"\n",
    "error_outfile = \"./test_data/test.txt\"\n",
    "decoder_infile = \"./test_data/test.txt\"\n",
    "decoder_outfile = \"./test_data/test2.txt\"\n",
    "\n",
    "\n",
    "errorSimulator.induceErrors(error_infile, error_outfile)\n",
    "col_errors, row_errors, succes = decoder.decode(decoder_infile, decoder_outfile)\n",
    "print(\"Succes: \", succes)\n",
    "\n"
   ]
  },
  {
   "cell_type": "markdown",
   "metadata": {},
   "source": [
    "## Testing decoder\n",
    "\n",
    "Testing the decoder for different reduncancies"
   ]
  },
  {
   "cell_type": "code",
   "execution_count": null,
   "metadata": {},
   "outputs": [],
   "source": [
    "import numpy as np\n",
    "import pandas as pd\n",
    "\n",
    "encoder_infile = \"./test_data/check.txt\"\n",
    "encoder_outfile = \"./test_data/output.txt\"\n",
    "error_infile = \"./test_data/output.txt\"\n",
    "error_outfile = \"./test_data/test.txt\"\n",
    "decoder_infile = \"./test_data/test.txt\"\n",
    "decoder_outfile = \"./test_data/test2.txt\"\n",
    "\n",
    "# Init result matrix\n",
    "result = np.empty([20, 20])\n",
    "\n",
    "# Number of samples per reduncancy combination\n",
    "itters = 100\n",
    "\n",
    "#Initialize dataframe\n",
    "df = pd.DataFrame(columns = ['row redundancy', 'column redundancy', 'column errors', 'row errors', 'succes %'])\n",
    "data = pd.DataFrame()\n",
    "\n",
    "\n",
    "i = 0\n",
    "for row_redundancy in range(450, 550, 50):\n",
    "    j = 0\n",
    "    encoder.set_row_redundancy(row_redundancy)\n",
    "    decoder.set_row_redundancy(row_redundancy)\n",
    "    for column_redundancy in range(12, 16 ,2):\n",
    "        \n",
    "        encoder.set_column_redundancy(column_redundancy)\n",
    "        decoder.set_column_redundancy(column_redundancy)\n",
    "        encoder.encode(encoder_infile, encoder_outfile)\n",
    "\n",
    "        succesfull_decodings = 0\n",
    "\n",
    "        for itter in range(itters):\n",
    "            errorSimulator.induceErrors(error_infile, error_outfile, insert_rate=  0.000462)\n",
    "            col_errors, row_errors, succes = decoder.decode(decoder_infile, decoder_outfile)\n",
    "\n",
    "            print(itter)\n",
    "            print(column_redundancy, row_redundancy)\n",
    "            print(\"Column errors\")\n",
    "            print(col_errors.count(0)/len(col_errors))\n",
    "            print(col_errors)\n",
    "            print(\"Row errors\")\n",
    "            print(row_errors)\n",
    "            print(succes[-1])\n",
    "            print(succes)\n",
    "\n",
    "            succesfull_decodings += int(all(succes))\n",
    "\n",
    "        result[i,j] = succesfull_decodings/itters\n",
    "\n",
    "        #Organize data\n",
    "        data = {\n",
    "            'row redundancy' : row_redundancy, \n",
    "            'column redundancy' : column_redundancy, \n",
    "            'column errors':succes[-1], \n",
    "            'row errors': 0, \n",
    "            'succes %': result[i,j]\n",
    "        }\n",
    "\n",
    "        #Append data to dataframe and write it to an excel file\n",
    "        df.loc[len(df)] = data\n",
    "        df.to_excel(\"./results/results.xlsx\")\n",
    "\n",
    "        print(row_redundancy, column_redundancy, succesfull_decodings/itters)\n",
    "\n",
    "\n",
    "\n",
    "\n",
    "        j += 1\n",
    "    i += 1\n",
    "\n",
    "print(result)\n",
    "\n",
    "\n",
    "\n",
    "        \n",
    "\n"
   ]
  }
 ],
 "metadata": {
  "kernelspec": {
   "display_name": "venv",
   "language": "python",
   "name": "python3"
  },
  "language_info": {
   "codemirror_mode": {
    "name": "ipython",
    "version": 3
   },
   "file_extension": ".py",
   "mimetype": "text/x-python",
   "name": "python",
   "nbconvert_exporter": "python",
   "pygments_lexer": "ipython3",
   "version": "3.11.4"
  }
 },
 "nbformat": 4,
 "nbformat_minor": 2
}
