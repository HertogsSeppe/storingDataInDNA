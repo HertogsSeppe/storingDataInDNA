{
 "cells": [
  {
   "cell_type": "markdown",
   "id": "e908bc25",
   "metadata": {},
   "source": [
    "## Required libraries\n",
    "These libraries are needed by the functions in this document, they might also be helpful in other parts of the project."
   ]
  },
  {
   "cell_type": "code",
   "execution_count": 3,
   "id": "e119898c",
   "metadata": {},
   "outputs": [],
   "source": [
    "import numpy as np\n",
    "import random\n",
    "import hashlib"
   ]
  },
  {
   "cell_type": "markdown",
   "id": "721b04d6",
   "metadata": {},
   "source": [
    "## Check a file is really the same\n",
    "Some file formats, such as jpeg or png, have built-in error correction so sometimes visual inspection might not reveal errors that happened during decoding. This function compares two files and returns a boolean answer."
   ]
  },
  {
   "cell_type": "code",
   "execution_count": null,
   "id": "cf8949bc",
   "metadata": {},
   "outputs": [],
   "source": [
    "def compare_files(file1, file2):\n",
    "    # Compare file1 and file2 using SHA256 checksum, if they are the same return True else return False\n",
    "    with open(file1, 'rb') as fi:\n",
    "        data1 = fi.read()\n",
    "    hash1 = hashlib.sha256(data1).hexdigest()\n",
    "    with open(file2, 'rb') as fi:\n",
    "        data2 = fi.read()\n",
    "    hash2 = hashlib.sha256(data2).hexdigest()\n",
    "    return hash1 == hash2"
   ]
  },
  {
   "cell_type": "markdown",
   "id": "7941d4eb",
   "metadata": {},
   "source": [
    "## Simulating synthesis, PCR and sequencing\n",
    "This a relatively simple function to simulate synthesis of DNA, PCR-based file retrieval, sequencing of DNA usign NGS and read merging. It takes a list of sequences and returns a list of sequences that are simulated to have gone through these physical processess. Arguments are:\n",
    "- Dropout rate, fraction of strands initially used for encoding which can no longer be retrieved\n",
    "- Insertion rate, rate at which bases are randomly inserted into a strand\n",
    "- Deletion rate, rate at which bases are randomly dropped from a strand\n",
    "- Substitution rate, rate at which bases are changed from one nucleotide to another.\n",
    "\n",
    "Default values for base errors are taken from https://www.nature.com/articles/nbt.4079"
   ]
  },
  {
   "cell_type": "code",
   "execution_count": 1,
   "id": "c6a4501a",
   "metadata": {},
   "outputs": [],
   "source": [
    "def sim_seq_simple(sequences, dropout = 0.01, insert_rate = 0.00042, del_rate = 0.00188, sub_rate = 0.00407):\n",
    "    # Takes sequences as a list of unique DNA sequences and simulates: synthesis, PCR and NGS\n",
    "    # Dropout is the dropout rate (i.e. the number of sequences that are not recovered)\n",
    "    # For baselevel errors we have insert_rate for insertions, del_rate for deletions and sub_rate for substitutions.\n",
    "    # Default values for base errors are taken from https://www.nature.com/articles/nbt.4079\n",
    "    s = sequences.copy()\n",
    "    random.shuffle(s)\n",
    "    for _ in range(0, int(dropout*len(s))):\n",
    "        s.pop()\n",
    "    \n",
    "    for i in range(len(s)):\n",
    "        seq_l = list(s[i])\n",
    "        mod = 0 # Inserting messes with indexing so we skip over inserted bases using this counter\n",
    "        for base_i in range(len(seq_l)):\n",
    "            mutate_rand = random.random()\n",
    "            if mutate_rand < insert_rate:\n",
    "                # Insert random nucleotide after this base\n",
    "                seq_l.insert(base_i+mod, random.choice(['A','C', 'T', 'G']))\n",
    "                mod+=1\n",
    "            elif mutate_rand > insert_rate and mutate_rand < (del_rate+insert_rate):\n",
    "                # Delete this nucleotide (later)\n",
    "                seq_l[base_i+mod] = '_'\n",
    "            elif mutate_rand > (insert_rate+del_rate) and mutate_rand < (del_rate+insert_rate+sub_rate):\n",
    "                # Substitute base\n",
    "                seq_l[base_i+mod] = random.choice(['A', 'C', 'T', 'G'])\n",
    "        if '_' in seq_l:\n",
    "            for dels in range(seq_l.count('_')):\n",
    "                seq_l.remove('_')\n",
    "        s[i] = ''.join(seq_l)\n",
    "    return s"
   ]
  }
 ],
 "metadata": {
  "kernelspec": {
   "display_name": "Python 3 (ipykernel)",
   "language": "python",
   "name": "python3"
  },
  "language_info": {
   "codemirror_mode": {
    "name": "ipython",
    "version": 3
   },
   "file_extension": ".py",
   "mimetype": "text/x-python",
   "name": "python",
   "nbconvert_exporter": "python",
   "pygments_lexer": "ipython3",
   "version": "3.9.12"
  }
 },
 "nbformat": 4,
 "nbformat_minor": 5
}
